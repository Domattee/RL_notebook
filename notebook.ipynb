{
 "cells": [
  {
   "cell_type": "markdown",
   "metadata": {
    "id": "klGNgWREsvQv"
   },
   "source": [
    "##### Copyright 2021 The TF-Agents Authors."
   ]
  },
  {
   "cell_type": "markdown",
   "metadata": {
    "id": "1u9QVVsShC9X"
   },
   "source": [
    "## Setup"
   ]
  },
  {
   "cell_type": "markdown",
   "metadata": {
    "id": "kNrNXKI7bINP"
   },
   "source": [
    "To render video you will need to have ffmpeg and xvbf installed.\n",
    "Typically, installing is done with the command\n",
    "\n",
    "`sudo apt-get install -y xvfb ffmpeg`\n",
    "\n",
    "Then, if you haven't installed the following dependencies, run:"
   ]
  },
  {
   "cell_type": "code",
   "execution_count": 1,
   "metadata": {
    "id": "KEHR2Ui-lo8O"
   },
   "outputs": [
    {
     "name": "stdout",
     "output_type": "stream",
     "text": [
      "Requirement already satisfied: imageio==2.4.0 in /home/cwilmot/.conda/envs/python3.8_env/lib/python3.8/site-packages (2.4.0)\n",
      "Requirement already satisfied: numpy in /home/cwilmot/.conda/envs/python3.8_env/lib/python3.8/site-packages (from imageio==2.4.0) (1.19.2)\n",
      "Requirement already satisfied: pillow in /home/cwilmot/.conda/envs/python3.8_env/lib/python3.8/site-packages (from imageio==2.4.0) (7.2.0)\n",
      "Requirement already satisfied: pyvirtualdisplay in /home/cwilmot/.conda/envs/python3.8_env/lib/python3.8/site-packages (2.1)\n",
      "Requirement already satisfied: EasyProcess in /home/cwilmot/.conda/envs/python3.8_env/lib/python3.8/site-packages (from pyvirtualdisplay) (0.3)\n",
      "Requirement already satisfied: gym in /home/cwilmot/.conda/envs/python3.8_env/lib/python3.8/site-packages (0.18.0)\n",
      "Requirement already satisfied: cloudpickle<1.7.0,>=1.2.0 in /home/cwilmot/.conda/envs/python3.8_env/lib/python3.8/site-packages (from gym) (1.6.0)\n",
      "Requirement already satisfied: scipy in /home/cwilmot/.conda/envs/python3.8_env/lib/python3.8/site-packages (from gym) (1.5.2)\n",
      "Requirement already satisfied: pyglet<=1.5.0,>=1.4.0 in /home/cwilmot/.conda/envs/python3.8_env/lib/python3.8/site-packages (from gym) (1.5.0)\n",
      "Requirement already satisfied: numpy>=1.10.4 in /home/cwilmot/.conda/envs/python3.8_env/lib/python3.8/site-packages (from gym) (1.19.2)\n",
      "Requirement already satisfied: Pillow<=7.2.0 in /home/cwilmot/.conda/envs/python3.8_env/lib/python3.8/site-packages (from gym) (7.2.0)\n",
      "Requirement already satisfied: future in /home/cwilmot/.conda/envs/python3.8_env/lib/python3.8/site-packages (from pyglet<=1.5.0,>=1.4.0->gym) (0.18.2)\n"
     ]
    }
   ],
   "source": [
    "!pip install 'imageio==2.4.0'\n",
    "!pip install pyvirtualdisplay\n",
    "!pip install gym"
   ]
  },
  {
   "cell_type": "code",
   "execution_count": 2,
   "metadata": {
    "id": "sMitx5qSgJk1"
   },
   "outputs": [],
   "source": [
    "from __future__ import absolute_import, division, print_function\n",
    "\n",
    "import base64\n",
    "import imageio\n",
    "import IPython\n",
    "import matplotlib\n",
    "import matplotlib.pyplot as plt\n",
    "import numpy as np\n",
    "import PIL.Image\n",
    "import pyvirtualdisplay\n",
    "import gym"
   ]
  },
  {
   "cell_type": "code",
   "execution_count": 3,
   "metadata": {
    "id": "J6HsdS5GbSjd"
   },
   "outputs": [],
   "source": [
    "# Set up a virtual display for rendering OpenAI gym environments.\n",
    "display = pyvirtualdisplay.Display(visible=0, size=(1400, 900)).start()"
   ]
  },
  {
   "cell_type": "markdown",
   "metadata": {
    "id": "VMsJC3DEgI0x"
   },
   "source": [
    "## Environment\n"
   ]
  },
  {
   "cell_type": "code",
   "execution_count": 4,
   "metadata": {
    "id": "pYEz-S9gEv2-"
   },
   "outputs": [
    {
     "name": "stderr",
     "output_type": "stream",
     "text": [
      "/home/cwilmot/.conda/envs/python3.8_env/lib/python3.8/site-packages/gym/logger.py:30: UserWarning: \u001b[33mWARN: Box bound precision lowered by casting to float32\u001b[0m\n",
      "  warnings.warn(colorize('%s: %s'%('WARN', msg % args), 'yellow'))\n"
     ]
    }
   ],
   "source": [
    "# env_name = 'CartPole-v0'                # discrete action space\n",
    "# env_name = 'LunarLander-v2'             # discrete action space\n",
    "# env_name = 'LunarLanderContinuous-v2'   # continuous action space\n",
    "# env_name = 'BipedalWalker-v3'           # continuous action space\n",
    "env_name = 'BipedalWalkerHardcore-v3'     # continuous action space\n",
    "env = gym.make(env_name)"
   ]
  },
  {
   "cell_type": "markdown",
   "metadata": {
    "id": "IIHYVBkuvPNw"
   },
   "source": [
    "You can render this environment to see how it looks:"
   ]
  },
  {
   "cell_type": "code",
   "execution_count": 15,
   "metadata": {
    "id": "RlO7WIQHu_7D"
   },
   "outputs": [
    {
     "data": {
      "image/png": "[encoded data removed]",
      "text/plain": [
       "<PIL.Image.Image image mode=RGB size=600x400 at 0x7EFDE0171F70>"
      ]
     },
     "execution_count": 15,
     "metadata": {},
     "output_type": "execute_result"
    }
   ],
   "source": [
    "env.reset()\n",
    "PIL.Image.fromarray(env.render(mode='rgb_array'))"
   ]
  },
  {
   "cell_type": "code",
   "execution_count": 6,
   "metadata": {
    "id": "exDv57iHfwQV"
   },
   "outputs": [
    {
     "name": "stdout",
     "output_type": "stream",
     "text": [
      "Observation Spec:\n",
      "Box(-inf, inf, (24,), float32)\n",
      "[inf inf inf inf inf inf inf inf inf inf inf inf inf inf inf inf inf inf\n",
      " inf inf inf inf inf inf]\n",
      "[-inf -inf -inf -inf -inf -inf -inf -inf -inf -inf -inf -inf -inf -inf\n",
      " -inf -inf -inf -inf -inf -inf -inf -inf -inf -inf]\n"
     ]
    }
   ],
   "source": [
    "print('Observation Spec:')\n",
    "print(env.observation_space)\n",
    "print(env.observation_space.high)\n",
    "print(env.observation_space.low)"
   ]
  },
  {
   "cell_type": "code",
   "execution_count": 7,
   "metadata": {},
   "outputs": [
    {
     "name": "stdout",
     "output_type": "stream",
     "text": [
      "Action Spec:\n",
      "Box(-1.0, 1.0, (4,), float32)\n"
     ]
    }
   ],
   "source": [
    "print('Action Spec:')\n",
    "print(env.action_space)"
   ]
  },
  {
   "cell_type": "code",
   "execution_count": 8,
   "metadata": {
    "id": "UxiSyCbBUQPi"
   },
   "outputs": [
    {
     "name": "stdout",
     "output_type": "stream",
     "text": [
      "Reward Spec:\n",
      "(-inf, inf)\n"
     ]
    }
   ],
   "source": [
    "print('Reward Spec:')\n",
    "print(env.reward_range)"
   ]
  },
  {
   "cell_type": "markdown",
   "metadata": {
    "id": "94rCXQtbUbXv"
   },
   "source": [
    "## Metrics and Evaluation\n",
    "\n",
    "The most common metric used to evaluate a policy is the average return. The return is the sum of rewards obtained while running a policy in an environment for an episode. Several episodes are run, creating an average return.\n",
    "\n",
    "The following function computes the average return of a policy, given the policy, environment, and a number of episodes.\n"
   ]
  },
  {
   "cell_type": "code",
   "execution_count": 9,
   "metadata": {
    "id": "bitzHo5_UbXy"
   },
   "outputs": [],
   "source": [
    "def compute_avg_return(environment, policy, num_episodes=10):\n",
    "    \n",
    "\n",
    "    total_return = 0.0\n",
    "    for _ in range(num_episodes):\n",
    "\n",
    "        observation = environment.reset()\n",
    "        episode_return = 0.0\n",
    "        done = False\n",
    "        while not done:\n",
    "            action = policy(observation)\n",
    "            observation, reward, done, info = environment.step(action)\n",
    "            episode_return += reward\n",
    "            total_return += episode_return\n",
    "\n",
    "    avg_return = total_return / num_episodes\n",
    "    return avg_return"
   ]
  },
  {
   "cell_type": "code",
   "execution_count": 10,
   "metadata": {},
   "outputs": [],
   "source": [
    "def random_policy(observation):\n",
    "    return env.action_space.sample()"
   ]
  },
  {
   "cell_type": "markdown",
   "metadata": {
    "id": "_snCVvq5Z8lJ"
   },
   "source": [
    "Running this computation on the `random_policy` shows a baseline performance in the environment."
   ]
  },
  {
   "cell_type": "code",
   "execution_count": 11,
   "metadata": {
    "id": "9bgU6Q6BZ8Bp"
   },
   "outputs": [
    {
     "data": {
      "text/plain": [
       "-42084.67081058497"
      ]
     },
     "execution_count": 11,
     "metadata": {},
     "output_type": "execute_result"
    }
   ],
   "source": [
    "compute_avg_return(env, random_policy, num_episodes=10)"
   ]
  },
  {
   "cell_type": "markdown",
   "metadata": {
    "id": "68jNcA_TiJDq"
   },
   "source": [
    "## Visualization\n"
   ]
  },
  {
   "cell_type": "markdown",
   "metadata": {
    "id": "M7-XpPP99Cy7"
   },
   "source": [
    "### Videos"
   ]
  },
  {
   "cell_type": "code",
   "execution_count": 12,
   "metadata": {
    "id": "ULaGr8pvOKbl"
   },
   "outputs": [],
   "source": [
    "def embed_mp4(filename):\n",
    "  \"\"\"Embeds an mp4 file in the notebook.\"\"\"\n",
    "  video = open(filename,'rb').read()\n",
    "  b64 = base64.b64encode(video)\n",
    "  tag = '''\n",
    "  <video width=\"640\" height=\"480\" controls>\n",
    "    <source src=\"data:video/mp4;base64,{0}\" type=\"video/mp4\">\n",
    "  Your browser does not support the video tag.\n",
    "  </video>'''.format(b64.decode())\n",
    "\n",
    "  return IPython.display.HTML(tag)"
   ]
  },
  {
   "cell_type": "markdown",
   "metadata": {
    "id": "9c_PH-pX4Pr5"
   },
   "source": [
    "Now iterate through a few episodes of the Cartpole game with the agent. The underlying Python environment (the one \"inside\" the TensorFlow environment wrapper) provides a `render()` method, which outputs an image of the environment state. These can be collected into a video."
   ]
  },
  {
   "cell_type": "code",
   "execution_count": 13,
   "metadata": {
    "id": "owOVWB158NlF"
   },
   "outputs": [],
   "source": [
    "def create_policy_eval_video(policy, filename, num_episodes=5, fps=30):\n",
    "    filename = filename + \".mp4\"\n",
    "    with imageio.get_writer(filename, fps=fps) as video:\n",
    "        for _ in range(num_episodes):\n",
    "            observation = env.reset()\n",
    "            done = False\n",
    "            video.append_data(env.render(mode='rgb_array'))\n",
    "            while not done:\n",
    "                action = policy(observation)\n",
    "                observation, reward, done, info = env.step(action)\n",
    "                video.append_data(env.render(mode='rgb_array'))\n",
    "    return embed_mp4(filename)\n"
   ]
  },
  {
   "cell_type": "code",
   "execution_count": 14,
   "metadata": {
    "id": "pJZIdC37yNH4"
   },
   "outputs": [
    {
     "name": "stderr",
     "output_type": "stream",
     "text": [
      "WARNING:root:IMAGEIO FFMPEG_WRITER WARNING: input image is not divisible by macro_block_size=16, resizing from (400, 600) to (400, 608) to ensure video compatibility with most codecs and players. To prevent resizing, make your input image divisible by the macro_block_size or set the macro_block_size to None (risking incompatibility). You may also see a FFMPEG warning concerning speedloss due to data not being aligned.\n"
     ]
    },
    {
     "data": {
      "text/html": [
       "\n",
       "  <video width=\"640\" height=\"480\" controls>\n",
       "    <source src=\"data:video/mp4;base64,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\" type=\"video/mp4\">\n",
       "  Your browser does not support the video tag.\n",
       "  </video>"
      ],
      "text/plain": [
       "<IPython.core.display.HTML object>"
      ]
     },
     "execution_count": 14,
     "metadata": {},
     "output_type": "execute_result"
    }
   ],
   "source": [
    "create_policy_eval_video(random_policy, \"random-agent\", num_episodes=1)"
   ]
  },
  {
   "cell_type": "code",
   "execution_count": null,
   "metadata": {},
   "outputs": [],
   "source": []
  }
 ],
 "metadata": {
  "colab": {
   "collapsed_sections": [],
   "name": "DQN Tutorial.ipynb",
   "private_outputs": true,
   "provenance": [],
   "toc_visible": true
  },
  "kernelspec": {
   "display_name": "Python 3",
   "language": "python",
   "name": "python3"
  },
  "language_info": {
   "codemirror_mode": {
    "name": "ipython",
    "version": 3
   },
   "file_extension": ".py",
   "mimetype": "text/x-python",
   "name": "python",
   "nbconvert_exporter": "python",
   "pygments_lexer": "ipython3",
   "version": "3.8.5"
  },
  "pycharm": {
   "stem_cell": {
    "cell_type": "raw",
    "metadata": {
     "collapsed": false
    },
    "source": []
   }
  }
 },
 "nbformat": 4,
 "nbformat_minor": 1
}
